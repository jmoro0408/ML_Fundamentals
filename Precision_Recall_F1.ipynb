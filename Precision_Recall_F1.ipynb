{
  "cells": [
    {
      "cell_type": "markdown",
      "metadata": {
        "id": "mPbYWmE1kOz8"
      },
      "source": [
        "# Definitions\n",
        "\n",
        "\n",
        "---\n",
        "\n",
        "\n",
        "Scenario - Predicting if a user will purchase a product.\n",
        "\n",
        "True Positive:\n",
        "*  Model predicts user will purchase product\n",
        "* User purchases product\n",
        "\n",
        "False Positive:\n",
        "* Model predicts user will purchase product\n",
        "* User does not purchase product\n",
        "\n",
        "False Negative:\n",
        "* Model predicts useer will not purchase product\n",
        "* user does purchase product\n",
        "\n",
        "True Negative:\n",
        "* Model preducts user will not purchase product\n",
        "* User does not purchase product\n",
        "\n",
        "# Accuracy\n",
        "\n",
        "---\n",
        "\n",
        "Accuracy is the ratio of correct predictions to total predictions\n",
        "\n",
        "\\begin{align}\n",
        "        Accuracy = \\frac{TP + TN}{TP+TN+FP+FN}\n",
        "    \\end{align}\n",
        "\n",
        "It is not useful for quantifying the performance of imbalanced data.\n",
        "\n",
        "# Precision\n",
        "\n",
        "\n",
        "---\n",
        "\n",
        "Precision attempts to answer the following question:\n",
        "\n",
        "What proportion of positive identifications was actually correct?\n",
        "\n",
        "\\begin{align}\n",
        "Precision = \\frac{TP}{TP+FP}\n",
        "\\end{align}\n",
        "\n"
      ]
    },
    {
      "cell_type": "code",
      "execution_count": 1,
      "metadata": {
        "id": "MYniy0UjlPGg"
      },
      "outputs": [],
      "source": [
        "# Assume we have a model that predicts whether or not a tumour is malignant, the following results are found:\n",
        "\n",
        "TP = 1\n",
        "FP = 1\n",
        "FN = 8\n",
        "TN = 90\n"
      ]
    },
    {
      "cell_type": "code",
      "execution_count": 2,
      "metadata": {
        "colab": {
          "base_uri": "https://localhost:8080/"
        },
        "id": "Y9gaAlGDqNYg",
        "outputId": "e1c8b4b1-51c8-443e-c894-d0a2af2e9435"
      },
      "outputs": [
        {
          "data": {
            "text/plain": [
              "0.5"
            ]
          },
          "execution_count": 2,
          "metadata": {},
          "output_type": "execute_result"
        }
      ],
      "source": [
        "precision = TP/(TP+FP)\n",
        "precision"
      ]
    },
    {
      "cell_type": "markdown",
      "metadata": {
        "id": "2bj54LsDqSLQ"
      },
      "source": [
        "In other words, when a tumour is malignant it is correct 50% of the time.\n",
        "# Recall\n",
        "\n",
        "\n",
        "---\n",
        "\n",
        "Recall attempts to answer the following question:\n",
        "\n",
        "What proportion of actual positives was identified correctly?\n",
        "\n",
        "\\begin{align}\n",
        "Recall = \\frac{TP}{TP+FN}\n",
        "\\end{align}"
      ]
    },
    {
      "cell_type": "code",
      "execution_count": 3,
      "metadata": {
        "colab": {
          "base_uri": "https://localhost:8080/"
        },
        "id": "KPcd3ZewqQsm",
        "outputId": "f44b2caf-4dd4-49b3-bdd2-e2370b0cd8a9"
      },
      "outputs": [
        {
          "data": {
            "text/plain": [
              "0.1111111111111111"
            ]
          },
          "execution_count": 3,
          "metadata": {},
          "output_type": "execute_result"
        }
      ],
      "source": [
        "recall = TP/(TP+FN)\n",
        "recall"
      ]
    },
    {
      "cell_type": "markdown",
      "metadata": {
        "id": "MQ1K_vvxsKTQ"
      },
      "source": [
        "In other words, our model correctly identifies 11% of malignant tumours\n",
        "\n",
        "# F1 Score\n",
        "\n",
        "The F1 Score attempts to create a single value out of the harmonic mean of precision and recall\n",
        "\n",
        "\\begin{align}\n",
        "F1 Score = 2\\frac{precision*recall}{precision+recall} = \\frac{2TP}{2TP+FP+FN}\n",
        "\\end{align}"
      ]
    },
    {
      "cell_type": "code",
      "execution_count": 4,
      "metadata": {
        "colab": {
          "base_uri": "https://localhost:8080/"
        },
        "id": "uBO7vlC8sIwp",
        "outputId": "5212db0f-0dc2-4d6c-f9b6-524ed2e4afa4"
      },
      "outputs": [
        {
          "data": {
            "text/plain": [
              "0.18181818181818182"
            ]
          },
          "execution_count": 4,
          "metadata": {},
          "output_type": "execute_result"
        }
      ],
      "source": [
        "F1 = (2*TP)/((2*TP)+FP+FN)\n",
        "F1"
      ]
    },
    {
      "cell_type": "markdown",
      "metadata": {
        "id": "dzEibuift1QG"
      },
      "source": [
        "Let's see how adjusting the threshold for predicions affects precision and recall"
      ]
    },
    {
      "cell_type": "code",
      "execution_count": 5,
      "metadata": {
        "id": "aa1pi5DptfWz"
      },
      "outputs": [],
      "source": [
        "from sklearn.datasets import make_classification\n",
        "from sklearn.naive_bayes import GaussianNB\n",
        "from sklearn.model_selection import train_test_split\n",
        "import matplotlib.pyplot as plt\n",
        "import numpy as np"
      ]
    },
    {
      "cell_type": "code",
      "execution_count": 201,
      "metadata": {
        "id": "3VKQTN_xvuqT"
      },
      "outputs": [],
      "source": [
        "X,y = make_classification(n_samples=1000, n_informative=2, flip_y=0.25, random_state=42)"
      ]
    },
    {
      "cell_type": "code",
      "execution_count": 202,
      "metadata": {
        "colab": {
          "base_uri": "https://localhost:8080/"
        },
        "id": "QGEn--tbvxx0",
        "outputId": "4db59250-52fb-4700-a0ad-f72560e6827c"
      },
      "outputs": [
        {
          "data": {
            "text/plain": [
              "((1000, 20), (1000,))"
            ]
          },
          "execution_count": 202,
          "metadata": {},
          "output_type": "execute_result"
        }
      ],
      "source": [
        "X.shape, y.shape"
      ]
    },
    {
      "cell_type": "code",
      "execution_count": 203,
      "metadata": {
        "id": "XYMV4_Xkv3Vz"
      },
      "outputs": [],
      "source": [
        "X_train, X_test, y_train, y_test = train_test_split(X, y, test_size=0.3, random_state=0)"
      ]
    },
    {
      "cell_type": "code",
      "execution_count": 204,
      "metadata": {
        "id": "Kdq4cje7yDXi"
      },
      "outputs": [],
      "source": [
        "clf = GaussianNB().fit(X_train, y_train)"
      ]
    },
    {
      "cell_type": "code",
      "execution_count": 205,
      "metadata": {
        "id": "5S5MBzGEyfrW"
      },
      "outputs": [],
      "source": [
        "threshold = 0.5"
      ]
    },
    {
      "cell_type": "code",
      "execution_count": 206,
      "metadata": {
        "id": "1dN3NR5UdAsz"
      },
      "outputs": [],
      "source": [
        "def get_prediction(proba_arr:np.array) -> int:\n",
        "  if proba_arr[0] == 0:\n",
        "    return 1\n",
        "  return 0\n",
        "\n",
        "def get_predictions_for_threshold(X_train:np.array, threshold:int) -> np.array:\n",
        "  \"\"\"\n",
        "  returns predictions for a given threshold value (0 - 1)\n",
        "  \"\"\"\n",
        "  decisions = (clf.predict_proba(X_train) >= threshold).astype(int)\n",
        "  predictions = np.array([get_prediction(x) for x in decisions])\n",
        "  return predictions"
      ]
    },
    {
      "cell_type": "code",
      "execution_count": 207,
      "metadata": {
        "id": "ewtAgTj0eEjR"
      },
      "outputs": [],
      "source": [
        "def true_positive(preds:np.array, y_train:np.array):\n",
        "  return ((y_train==1) &(preds==1)).sum()\n",
        "def false_positive(preds:np.array, y_train:np.array):\n",
        "  return ((y_train == 0) & (preds == 1)).sum()\n",
        "def true_negative(preds:np.array, y_train:np.array):\n",
        "  return ((y_train == 0) & (preds == 0)).sum()\n",
        "def false_negative(preds:np.array, y_train:np.array):\n",
        "  return ((y_train == 1) & (preds == 0)).sum()\n",
        "def precision(true_positive:int, false_positive:int) -> float:\n",
        "  return true_positive/(true_positive+false_positive)\n",
        "def recall(true_positive:int, false_negative) -> float:\n",
        "  return true_positive/(true_positive+false_negative)\n",
        "\n",
        "def f1(precision:float, recall:float) -> float:\n",
        "  return 2*((precision*recall)/ (precision+recall))"
      ]
    },
    {
      "cell_type": "markdown",
      "metadata": {
        "id": "gLryzjFQmTCF"
      },
      "source": [
        "# Testing with 0.5 Threshold"
      ]
    },
    {
      "cell_type": "code",
      "execution_count": 208,
      "metadata": {
        "id": "reZ4EIP6gf-y"
      },
      "outputs": [],
      "source": [
        "predictions_05 = get_predictions_for_threshold(X_train, 0.5)\n",
        "tp_05 = true_positive(predictions_05, y_train)\n",
        "tn_05 = true_negative(predictions_05, y_train)\n",
        "fp_05 = false_positive(predictions_05, y_train)\n",
        "fn_05 = false_negative(predictions_05, y_train)\n",
        "precision_05 = precision(tp_05,fp_05 )\n",
        "recall_05 = recall(tp_05, fn_05)\n",
        "f1_05 = f1(precision_05, recall_05)"
      ]
    },
    {
      "cell_type": "code",
      "execution_count": 209,
      "metadata": {
        "colab": {
          "base_uri": "https://localhost:8080/"
        },
        "id": "y-ZVsB_Mgia5",
        "outputId": "5703f6c5-b29c-4acb-82a6-6ab9ae54d2ec"
      },
      "outputs": [
        {
          "data": {
            "text/plain": [
              "(0.8080495356037152, 0.729050279329609)"
            ]
          },
          "execution_count": 209,
          "metadata": {},
          "output_type": "execute_result"
        }
      ],
      "source": [
        "precision_05, recall_05"
      ]
    },
    {
      "cell_type": "markdown",
      "metadata": {
        "id": "iOnvErJllGLM"
      },
      "source": [
        "## Compare with sklearn metrics"
      ]
    },
    {
      "cell_type": "code",
      "execution_count": 210,
      "metadata": {
        "id": "TDRFlZqDg3M_"
      },
      "outputs": [],
      "source": [
        "preds = clf.predict(X_train)\n",
        "from sklearn.metrics import precision_score, recall_score, f1_score"
      ]
    },
    {
      "cell_type": "code",
      "execution_count": 211,
      "metadata": {
        "id": "G8iRjkS4hWmF"
      },
      "outputs": [],
      "source": [
        "assert np.isclose(precision_05, precision_score(y_train, preds))\n",
        "assert np.isclose(recall_05, recall_score(y_train, preds))\n",
        "assert np.isclose(f1_05, f1_score(y_train, preds))"
      ]
    },
    {
      "cell_type": "markdown",
      "metadata": {
        "id": "OiaZoLpimVTC"
      },
      "source": [
        "# generate plot"
      ]
    },
    {
      "cell_type": "code",
      "execution_count": 228,
      "metadata": {
        "id": "90jqO7sFmWdS"
      },
      "outputs": [],
      "source": [
        "thresholds = np.arange(1e-3,1.01,1e-3)"
      ]
    },
    {
      "cell_type": "code",
      "execution_count": 230,
      "metadata": {
        "id": "SWkHW5oqmZVC"
      },
      "outputs": [],
      "source": [
        "preds_dict = {}\n",
        "for i in thresholds:\n",
        "  preds_dict[i] = get_predictions_for_threshold(X_train, i)\n",
        "precision_dict = {}\n",
        "recall_dict = {}\n",
        "f1_dict = {}\n",
        "for k,v in preds_dict.items():\n",
        "  tp = true_positive(v, y_train)\n",
        "  tn = true_negative(v, y_train)\n",
        "  fp = false_positive(v, y_train)\n",
        "  fn = false_negative(v, y_train)\n",
        "  precision_dict[k] = precision(tp,fp )\n",
        "  recall_dict[k] = recall(tp, fn)\n",
        "  f1_dict[k]= f1(precision_dict[k], recall_dict[k])\n"
      ]
    },
    {
      "cell_type": "code",
      "execution_count": 234,
      "metadata": {
        "colab": {
          "base_uri": "https://localhost:8080/",
          "height": 658
        },
        "id": "KUAP9jrvoJLj",
        "outputId": "9c2ee62b-d12c-4325-ba9d-1235aacd0b8b"
      },
      "outputs": [
        {
          "data": {
            "text/plain": [
              "Text(0.5, 1.0, 'PRecision - Recall Curve')"
            ]
          },
          "execution_count": 234,
          "metadata": {},
          "output_type": "execute_result"
        },
        {
          "data": {
            "image/png": "[encoded data removed]",
            "text/plain": [
              "<Figure size 1000x700 with 1 Axes>"
            ]
          },
          "metadata": {},
          "output_type": "display_data"
        }
      ],
      "source": [
        "\n",
        "fig, ax = plt.subplots(figsize = (10,7))\n",
        "ax.plot(recall_dict.values(), precision_dict.values() )\n",
        "ax.set_ylabel('Precision')\n",
        "ax.set_xlabel('Recall')\n",
        "ax.set_ylim((0,1))\n",
        "ax.set_xlim((0,1))\n",
        "ax.set_title('Precision - Recall Curve')"
      ]
    },
    {
      "cell_type": "code",
      "execution_count": 235,
      "metadata": {
        "colab": {
          "base_uri": "https://localhost:8080/",
          "height": 658
        },
        "id": "suQFXdhbok1q",
        "outputId": "828dca65-3ed5-4281-f5ce-9c81fa5fea01"
      },
      "outputs": [
        {
          "data": {
            "text/plain": [
              "Text(0.5, 1.0, 'Threshold - F1 Score Curve')"
            ]
          },
          "execution_count": 235,
          "metadata": {},
          "output_type": "execute_result"
        },
        {
          "data": {
            "image/png": "[encoded data removed]",
            "text/plain": [
              "<Figure size 1000x700 with 1 Axes>"
            ]
          },
          "metadata": {},
          "output_type": "display_data"
        }
      ],
      "source": [
        "fig, ax = plt.subplots(figsize = (10,7))\n",
        "ax.plot(thresholds, f1_dict.values() )\n",
        "ax.set_ylabel('F1 Score')\n",
        "ax.set_xlabel('Threshold')\n",
        "ax.set_ylim((0,1))\n",
        "ax.set_xlim((0,1))\n",
        "ax.set_title('Threshold - F1 Score Curve')"
      ]
    },
    {
      "cell_type": "code",
      "execution_count": null,
      "metadata": {
        "id": "-f-s9lurq7NS"
      },
      "outputs": [],
      "source": []
    }
  ],
  "metadata": {
    "colab": {
      "provenance": []
    },
    "kernelspec": {
      "display_name": "Python 3",
      "name": "python3"
    },
    "language_info": {
      "name": "python",
      "version": "3.11.0"
    }
  },
  "nbformat": 4,
  "nbformat_minor": 0
}
